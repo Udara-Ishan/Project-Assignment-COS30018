{
 "cells": [
  {
   "cell_type": "code",
   "execution_count": 1,
   "id": "b1332e2b",
   "metadata": {},
   "outputs": [],
   "source": [
    "import numpy as np\n",
    "import matplotlib.pyplot as plt\n",
    "import pandas as pd\n",
    "import pandas_datareader as web\n",
    "import datetime as dt\n",
    "import tensorflow as tf\n",
    "\n",
    "from sklearn.preprocessing import MinMaxScaler\n",
    "from tensorflow.keras.models import Sequential\n",
    "from tensorflow.keras.layers import Dense, Dropout, LSTM, InputLayer\n"
   ]
  },
  {
   "cell_type": "code",
   "execution_count": 2,
   "id": "c8d16557",
   "metadata": {},
   "outputs": [],
   "source": [
    "# DATA_SOURCE = \"yahoo\"\n",
    "COMPANY = 'CBA.AX'\n",
    "\n",
    "TRAIN_START = '2020-01-01'     # Start date to read\n",
    "TRAIN_END = '2023-08-01'       # End date to read"
   ]
  },
  {
   "cell_type": "code",
   "execution_count": 3,
   "id": "138e490a",
   "metadata": {},
   "outputs": [
    {
     "name": "stderr",
     "output_type": "stream",
     "text": [
      "C:\\Users\\ishan\\AppData\\Local\\Temp\\ipykernel_46808\\1437991701.py:4: FutureWarning: YF.download() has changed argument auto_adjust default to True\n",
      "  data = yf.download(COMPANY,TRAIN_START,TRAIN_END)\n",
      "[*********************100%***********************]  1 of 1 completed\n"
     ]
    }
   ],
   "source": [
    "import yfinance as yf\n",
    "\n",
    "# Get the data for the stock AAPL\n",
    "data = yf.download(COMPANY,TRAIN_START,TRAIN_END)"
   ]
  },
  {
   "cell_type": "code",
   "execution_count": 4,
   "id": "f51e195f",
   "metadata": {},
   "outputs": [],
   "source": [
    "PRICE_VALUE = \"Close\"\n",
    "\n",
    "scaler = MinMaxScaler(feature_range=(0, 1)) \n",
    "# Note that, by default, feature_range=(0, 1). Thus, if you want a different \n",
    "# feature_range (min,max) then you'll need to specify it here\n",
    "scaled_data = scaler.fit_transform(data[PRICE_VALUE].values.reshape(-1, 1)) \n",
    "# Flatten and normalise the data\n",
    "# First, we reshape a 1D array(n) to 2D array(n,1)\n",
    "# We have to do that because sklearn.preprocessing.fit_transform()\n",
    "# requires a 2D array\n",
    "# Here n == len(scaled_data)\n",
    "# Then, we scale the whole array to the range (0,1)\n",
    "# The parameter -1 allows (np.)reshape to figure out the array size n automatically \n",
    "# values.reshape(-1, 1) \n",
    "# https://stackoverflow.com/questions/18691084/what-does-1-mean-in-numpy-reshape'\n",
    "# When reshaping an array, the new shape must contain the same number of elements \n",
    "# as the old shape, meaning the products of the two shapes' dimensions must be equal. \n",
    "# When using a -1, the dimension corresponding to the -1 will be the product of \n",
    "# the dimensions of the original array divided by the product of the dimensions \n",
    "# given to reshape so as to maintain the same number of elements.\n",
    "\n",
    "# Number of days to look back to base the prediction\n",
    "PREDICTION_DAYS = 60 # Original\n",
    "\n",
    "# To store the training data\n",
    "x_train = []\n",
    "y_train = []\n",
    "\n",
    "scaled_data = scaled_data[:,0] # Turn the 2D array back to a 1D array\n",
    "# Prepare the data\n",
    "for x in range(PREDICTION_DAYS, len(scaled_data)):\n",
    "    x_train.append(scaled_data[x-PREDICTION_DAYS:x])\n",
    "    y_train.append(scaled_data[x])\n",
    "\n",
    "# Convert them into an array\n",
    "x_train, y_train = np.array(x_train), np.array(y_train)\n",
    "# Now, x_train is a 2D array(p,q) where p = len(scaled_data) - PREDICTION_DAYS\n",
    "# and q = PREDICTION_DAYS; while y_train is a 1D array(p)\n",
    "\n",
    "x_train = np.reshape(x_train, (x_train.shape[0], x_train.shape[1], 1))\n",
    "# We now reshape x_train into a 3D array(p, q, 1); Note that x_train \n",
    "# is an array of p inputs with each input being a 2D array \n"
   ]
  },
  {
   "cell_type": "code",
   "execution_count": 5,
   "id": "b2be3558",
   "metadata": {},
   "outputs": [
    {
     "name": "stdout",
     "output_type": "stream",
     "text": [
      "Epoch 1/25\n"
     ]
    },
    {
     "name": "stderr",
     "output_type": "stream",
     "text": [
      "c:\\Users\\ishan\\AppData\\Local\\Programs\\Python\\Python310\\lib\\site-packages\\keras\\src\\layers\\rnn\\rnn.py:199: UserWarning: Do not pass an `input_shape`/`input_dim` argument to a layer. When using Sequential models, prefer using an `Input(shape)` object as the first layer in the model instead.\n",
      "  super().__init__(**kwargs)\n"
     ]
    },
    {
     "name": "stdout",
     "output_type": "stream",
     "text": [
      "\u001b[1m27/27\u001b[0m \u001b[32m━━━━━━━━━━━━━━━━━━━━\u001b[0m\u001b[37m\u001b[0m \u001b[1m4s\u001b[0m 33ms/step - loss: 0.1505\n",
      "Epoch 2/25\n",
      "\u001b[1m27/27\u001b[0m \u001b[32m━━━━━━━━━━━━━━━━━━━━\u001b[0m\u001b[37m\u001b[0m \u001b[1m1s\u001b[0m 31ms/step - loss: 0.0136\n",
      "Epoch 3/25\n",
      "\u001b[1m27/27\u001b[0m \u001b[32m━━━━━━━━━━━━━━━━━━━━\u001b[0m\u001b[37m\u001b[0m \u001b[1m1s\u001b[0m 31ms/step - loss: 0.0074\n",
      "Epoch 4/25\n",
      "\u001b[1m27/27\u001b[0m \u001b[32m━━━━━━━━━━━━━━━━━━━━\u001b[0m\u001b[37m\u001b[0m \u001b[1m1s\u001b[0m 32ms/step - loss: 0.0081\n",
      "Epoch 5/25\n",
      "\u001b[1m27/27\u001b[0m \u001b[32m━━━━━━━━━━━━━━━━━━━━\u001b[0m\u001b[37m\u001b[0m \u001b[1m1s\u001b[0m 31ms/step - loss: 0.0075\n",
      "Epoch 6/25\n",
      "\u001b[1m27/27\u001b[0m \u001b[32m━━━━━━━━━━━━━━━━━━━━\u001b[0m\u001b[37m\u001b[0m \u001b[1m1s\u001b[0m 31ms/step - loss: 0.0075\n",
      "Epoch 7/25\n",
      "\u001b[1m27/27\u001b[0m \u001b[32m━━━━━━━━━━━━━━━━━━━━\u001b[0m\u001b[37m\u001b[0m \u001b[1m1s\u001b[0m 31ms/step - loss: 0.0072\n",
      "Epoch 8/25\n",
      "\u001b[1m27/27\u001b[0m \u001b[32m━━━━━━━━━━━━━━━━━━━━\u001b[0m\u001b[37m\u001b[0m \u001b[1m1s\u001b[0m 31ms/step - loss: 0.0062\n",
      "Epoch 9/25\n",
      "\u001b[1m27/27\u001b[0m \u001b[32m━━━━━━━━━━━━━━━━━━━━\u001b[0m\u001b[37m\u001b[0m \u001b[1m1s\u001b[0m 32ms/step - loss: 0.0067\n",
      "Epoch 10/25\n",
      "\u001b[1m27/27\u001b[0m \u001b[32m━━━━━━━━━━━━━━━━━━━━\u001b[0m\u001b[37m\u001b[0m \u001b[1m1s\u001b[0m 31ms/step - loss: 0.0061\n",
      "Epoch 11/25\n",
      "\u001b[1m27/27\u001b[0m \u001b[32m━━━━━━━━━━━━━━━━━━━━\u001b[0m\u001b[37m\u001b[0m \u001b[1m1s\u001b[0m 31ms/step - loss: 0.0061\n",
      "Epoch 12/25\n",
      "\u001b[1m27/27\u001b[0m \u001b[32m━━━━━━━━━━━━━━━━━━━━\u001b[0m\u001b[37m\u001b[0m \u001b[1m1s\u001b[0m 30ms/step - loss: 0.0063\n",
      "Epoch 13/25\n",
      "\u001b[1m27/27\u001b[0m \u001b[32m━━━━━━━━━━━━━━━━━━━━\u001b[0m\u001b[37m\u001b[0m \u001b[1m1s\u001b[0m 31ms/step - loss: 0.0056\n",
      "Epoch 14/25\n",
      "\u001b[1m27/27\u001b[0m \u001b[32m━━━━━━━━━━━━━━━━━━━━\u001b[0m\u001b[37m\u001b[0m \u001b[1m1s\u001b[0m 31ms/step - loss: 0.0058\n",
      "Epoch 15/25\n",
      "\u001b[1m27/27\u001b[0m \u001b[32m━━━━━━━━━━━━━━━━━━━━\u001b[0m\u001b[37m\u001b[0m \u001b[1m1s\u001b[0m 31ms/step - loss: 0.0059\n",
      "Epoch 16/25\n",
      "\u001b[1m27/27\u001b[0m \u001b[32m━━━━━━━━━━━━━━━━━━━━\u001b[0m\u001b[37m\u001b[0m \u001b[1m1s\u001b[0m 34ms/step - loss: 0.0063\n",
      "Epoch 17/25\n",
      "\u001b[1m27/27\u001b[0m \u001b[32m━━━━━━━━━━━━━━━━━━━━\u001b[0m\u001b[37m\u001b[0m \u001b[1m1s\u001b[0m 33ms/step - loss: 0.0054\n",
      "Epoch 18/25\n",
      "\u001b[1m27/27\u001b[0m \u001b[32m━━━━━━━━━━━━━━━━━━━━\u001b[0m\u001b[37m\u001b[0m \u001b[1m1s\u001b[0m 35ms/step - loss: 0.0057\n",
      "Epoch 19/25\n",
      "\u001b[1m27/27\u001b[0m \u001b[32m━━━━━━━━━━━━━━━━━━━━\u001b[0m\u001b[37m\u001b[0m \u001b[1m1s\u001b[0m 31ms/step - loss: 0.0054\n",
      "Epoch 20/25\n",
      "\u001b[1m27/27\u001b[0m \u001b[32m━━━━━━━━━━━━━━━━━━━━\u001b[0m\u001b[37m\u001b[0m \u001b[1m1s\u001b[0m 32ms/step - loss: 0.0066\n",
      "Epoch 21/25\n",
      "\u001b[1m27/27\u001b[0m \u001b[32m━━━━━━━━━━━━━━━━━━━━\u001b[0m\u001b[37m\u001b[0m \u001b[1m1s\u001b[0m 31ms/step - loss: 0.0062\n",
      "Epoch 22/25\n",
      "\u001b[1m27/27\u001b[0m \u001b[32m━━━━━━━━━━━━━━━━━━━━\u001b[0m\u001b[37m\u001b[0m \u001b[1m1s\u001b[0m 31ms/step - loss: 0.0041\n",
      "Epoch 23/25\n",
      "\u001b[1m27/27\u001b[0m \u001b[32m━━━━━━━━━━━━━━━━━━━━\u001b[0m\u001b[37m\u001b[0m \u001b[1m1s\u001b[0m 32ms/step - loss: 0.0044\n",
      "Epoch 24/25\n",
      "\u001b[1m27/27\u001b[0m \u001b[32m━━━━━━━━━━━━━━━━━━━━\u001b[0m\u001b[37m\u001b[0m \u001b[1m1s\u001b[0m 30ms/step - loss: 0.0049\n",
      "Epoch 25/25\n",
      "\u001b[1m27/27\u001b[0m \u001b[32m━━━━━━━━━━━━━━━━━━━━\u001b[0m\u001b[37m\u001b[0m \u001b[1m1s\u001b[0m 31ms/step - loss: 0.0052\n"
     ]
    },
    {
     "data": {
      "text/plain": [
       "<keras.src.callbacks.history.History at 0x222a2d3c970>"
      ]
     },
     "execution_count": 5,
     "metadata": {},
     "output_type": "execute_result"
    }
   ],
   "source": [
    "model = Sequential()\n",
    "model.add(LSTM(units=50, return_sequences=True, input_shape=(x_train.shape[1], 1)))\n",
    "model.add(Dropout(0.2))\n",
    "model.add(LSTM(units=50, return_sequences=True))\n",
    "model.add(Dropout(0.2))\n",
    "model.add(LSTM(units=50))\n",
    "model.add(Dropout(0.2))\n",
    "\n",
    "model.add(Dense(units=1))\n",
    "model.compile(optimizer='adam', loss='mean_squared_error')\n",
    "model.fit(x_train, y_train, epochs=25, batch_size=32)\n"
   ]
  },
  {
   "cell_type": "code",
   "execution_count": 6,
   "id": "d159d137",
   "metadata": {},
   "outputs": [
    {
     "name": "stderr",
     "output_type": "stream",
     "text": [
      "C:\\Users\\ishan\\AppData\\Local\\Temp\\ipykernel_46808\\2601071261.py:6: FutureWarning: YF.download() has changed argument auto_adjust default to True\n",
      "  test_data = yf.download(COMPANY,TEST_START,TEST_END)\n",
      "[*********************100%***********************]  1 of 1 completed\n"
     ]
    }
   ],
   "source": [
    "TEST_START = '2023-08-02'\n",
    "TEST_END = '2024-07-02'\n",
    "\n",
    "# test_data = web.DataReader(COMPANY, DATA_SOURCE, TEST_START, TEST_END)\n",
    "\n",
    "test_data = yf.download(COMPANY,TEST_START,TEST_END)\n",
    "\n",
    "\n",
    "# The above bug is the reason for the following line of code\n",
    "# test_data = test_data[1:]\n",
    "\n",
    "actual_prices = test_data[PRICE_VALUE].values\n",
    "\n",
    "total_dataset = pd.concat((data[PRICE_VALUE], test_data[PRICE_VALUE]), axis=0)\n",
    "\n",
    "model_inputs = total_dataset[len(total_dataset) - len(test_data) - PREDICTION_DAYS:].values\n",
    "# We need to do the above because to predict the closing price of the fisrt\n",
    "# PREDICTION_DAYS of the test period [TEST_START, TEST_END], we'll need the \n",
    "# data from the training period\n",
    "\n",
    "model_inputs = model_inputs.reshape(-1, 1)\n",
    "# TO DO: Explain the above line\n",
    "\n",
    "model_inputs = scaler.transform(model_inputs)\n",
    "\n"
   ]
  },
  {
   "cell_type": "code",
   "execution_count": 7,
   "id": "b5f56551",
   "metadata": {},
   "outputs": [
    {
     "name": "stdout",
     "output_type": "stream",
     "text": [
      "\u001b[1m8/8\u001b[0m \u001b[32m━━━━━━━━━━━━━━━━━━━━\u001b[0m\u001b[37m\u001b[0m \u001b[1m1s\u001b[0m 61ms/step\n"
     ]
    },
    {
     "data": {
      "image/png": "[encoded data removed]",
      "text/plain": [
       "<Figure size 640x480 with 1 Axes>"
      ]
     },
     "metadata": {},
     "output_type": "display_data"
    }
   ],
   "source": [
    "x_test = []\n",
    "for x in range(PREDICTION_DAYS, len(model_inputs)):\n",
    "    x_test.append(model_inputs[x - PREDICTION_DAYS:x, 0])\n",
    "\n",
    "x_test = np.array(x_test)\n",
    "x_test = np.reshape(x_test, (x_test.shape[0], x_test.shape[1], 1))\n",
    "# TO DO: Explain the above 5 lines\n",
    "\n",
    "predicted_prices = model.predict(x_test)\n",
    "predicted_prices = scaler.inverse_transform(predicted_prices)\n",
    "\n",
    "plt.plot(actual_prices, color=\"black\", label=f\"Actual {COMPANY} Price\")\n",
    "plt.plot(predicted_prices, color=\"green\", label=f\"Predicted {COMPANY} Price\")\n",
    "plt.title(f\"{COMPANY} Share Price\")\n",
    "plt.xlabel(\"Time\")\n",
    "plt.ylabel(f\"{COMPANY} Share Price\")\n",
    "plt.legend()\n",
    "plt.show()\n"
   ]
  },
  {
   "cell_type": "code",
   "execution_count": 8,
   "id": "7428fff7",
   "metadata": {},
   "outputs": [
    {
     "name": "stdout",
     "output_type": "stream",
     "text": [
      "\u001b[1m1/1\u001b[0m \u001b[32m━━━━━━━━━━━━━━━━━━━━\u001b[0m\u001b[37m\u001b[0m \u001b[1m0s\u001b[0m 34ms/step\n",
      "Prediction: [[113.74843]]\n"
     ]
    }
   ],
   "source": [
    "real_data = [model_inputs[len(model_inputs) - PREDICTION_DAYS:, 0]]\n",
    "real_data = np.array(real_data)\n",
    "real_data = np.reshape(real_data, (real_data.shape[0], real_data.shape[1], 1))\n",
    "\n",
    "prediction = model.predict(real_data)\n",
    "prediction = scaler.inverse_transform(prediction)\n",
    "print(f\"Prediction: {prediction}\")"
   ]
  }
 ],
 "metadata": {
  "kernelspec": {
   "display_name": "Python (myenv)",
   "language": "python",
   "name": "myenv"
  },
  "language_info": {
   "codemirror_mode": {
    "name": "ipython",
    "version": 3
   },
   "file_extension": ".py",
   "mimetype": "text/x-python",
   "name": "python",
   "nbconvert_exporter": "python",
   "pygments_lexer": "ipython3",
   "version": "3.10.11"
  }
 },
 "nbformat": 4,
 "nbformat_minor": 5
}
